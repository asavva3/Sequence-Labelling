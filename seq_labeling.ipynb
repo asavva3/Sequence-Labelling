{
 "cells": [
  {
   "cell_type": "code",
   "execution_count": 30,
   "metadata": {},
   "outputs": [],
   "source": [
    "# imports\n",
    "\n",
    "import re\n",
    "\n",
    "%matplotlib inline\n",
    "import matplotlib.pyplot as plt\n",
    "\n",
    "import nltk\n",
    "from nltk.corpus import stopwords\n",
    "from nltk.stem import PorterStemmer\n",
    "from nltk.stem import WordNetLemmatizer\n",
    "\n",
    "import spacy\n",
    "from spacymoji import Emoji\n",
    "\n",
    "import scipy.stats\n",
    "\n",
    "import sklearn\n",
    "from sklearn.metrics import make_scorer\n",
    "# from sklearn.cross_validation import cross_val_score\n",
    "from sklearn.model_selection import cross_val_score\n",
    "# from sklearn.grid_search import RandomizedSearchCV\n",
    "from sklearn.model_selection import RandomizedSearchCV\n",
    "from sklearn.model_selection import PredefinedSplit\n",
    "from sklearn.utils._testing import ignore_warnings\n",
    "\n",
    "import sklearn_crfsuite\n",
    "from sklearn_crfsuite import scorers\n",
    "from sklearn_crfsuite import metrics\n",
    "\n",
    "import pandas as pd\n",
    "import numpy as np\n",
    "\n",
    "import gensim\n",
    "from gensim.models import Word2Vec\n",
    "import gensim.downloader\n",
    "from gensim.scripts.glove2word2vec import glove2word2vec\n",
    "from gensim.test.utils import get_tmpfile\n",
    "from gensim.models import KeyedVectors\n",
    "\n",
    "# matplot\n",
    "plt.style.use('ggplot')"
   ]
  },
  {
   "cell_type": "code",
   "execution_count": 31,
   "metadata": {},
   "outputs": [],
   "source": [
    "# file read\n",
    "\n",
    "def conll_read(path: str):\n",
    "    words = []\n",
    "    bio_tags = []\n",
    "    i = 0\n",
    "    with open(path) as f:\n",
    "        for line in f:\n",
    "            i += 1\n",
    "            splitted = line.strip().split('\\t')\n",
    "            if len(splitted) == 1:\n",
    "                if splitted[0] == '':\n",
    "                    words.append('\\n')\n",
    "                    bio_tags.append('\\n')\n",
    "                else:\n",
    "                    # special case for last line of dev set\n",
    "                    # maybe we just skip it altogether\n",
    "                    words.append(splitted[0])\n",
    "                    bio_tags.append('O')\n",
    "            else:\n",
    "                words.append(splitted[0])\n",
    "                bio_tags.append(splitted[1])\n",
    "    return words, bio_tags"
   ]
  },
  {
   "cell_type": "code",
   "execution_count": 32,
   "metadata": {},
   "outputs": [],
   "source": [
    "# calls nltk \n",
    "def add_pos_tags(tokens: list):\n",
    "    tagged_train = nltk.pos_tag(tokens)\n",
    "    return zip(*tagged_train)"
   ]
  },
  {
   "cell_type": "code",
   "execution_count": 33,
   "metadata": {},
   "outputs": [],
   "source": [
    "# create the sentences with their features\n",
    "def create_sents(seqs):\n",
    "    seperators = [i for i, item in enumerate(seqs) if item[0] == '\\n']\n",
    "    sents = []\n",
    "    for idx, pos in enumerate(seperators):\n",
    "        start = seperators[idx - 1] + 1\n",
    "        end = seperators[idx]\n",
    "        \n",
    "        if idx == 0:\n",
    "            start = 0\n",
    "            end = pos\n",
    "    \n",
    "        sequence = seqs[start: end]\n",
    "        sents.append(sequence)\n",
    "    return sents"
   ]
  },
  {
   "cell_type": "code",
   "execution_count": 34,
   "metadata": {},
   "outputs": [],
   "source": [
    "# train set\n",
    "words, bio_tags = conll_read('W-NUT_data/wnut17train.conll')\n",
    "words, pos_tags = add_pos_tags(words)\n",
    "complete = list(zip(words, pos_tags, bio_tags))\n",
    "train_sequences = create_sents(complete)\n",
    "\n",
    "# dev set\n",
    "words, bio_tags = conll_read('W-NUT_data/emerging.dev.conll')\n",
    "words, pos_tags = add_pos_tags(words)\n",
    "complete = list(zip(words, pos_tags, bio_tags))\n",
    "dev_sequences = create_sents(complete)\n",
    "\n",
    "# test set\n",
    "words, bio_tags = conll_read('W-NUT_data/emerging.test.annotated')\n",
    "words, pos_tags = add_pos_tags(words)\n",
    "complete = list(zip(words, pos_tags, bio_tags))\n",
    "test_sequences = create_sents(complete)"
   ]
  },
  {
   "cell_type": "code",
   "execution_count": 35,
   "metadata": {},
   "outputs": [],
   "source": [
    "# extra features\n",
    "is_hashtag_regex = re.compile(r\"#(\\w+)?\")\n",
    "is_mention_regex = re.compile(r\"^@(\\w+)?\")\n",
    "is_money_regex = re.compile(r\"^$(\\w+)?\")\n",
    "is_url_regex = re.compile(r\"(https?:\\/\\/(?:www\\.|(?!www))|www\\.|www\\.)\")\n",
    "is_punct_reg = re.compile(r\"^[\\.\\,!\\?\\\"\\':;_\\-]$\")\n",
    "is_repeated_punct_reg = re.compile(r\"^[\\.\\,!\\?\\\"\\':;_\\-]{2,}$\")\n",
    "is_first_capital_reg = re.compile(r\"^[A-Z][a-z]+\")\n",
    "stop_words_set = set(stopwords.words('english'))\n",
    "\n",
    "nlp = spacy.load(\"en_core_web_sm\")\n",
    "nlp.add_pipe('emoji', first=True)\n",
    "\n",
    "lemmatizer = WordNetLemmatizer()\n",
    "\n",
    "def is_hashtag(word: str) -> bool:\n",
    "    return bool(is_hashtag_regex.match(word))\n",
    "\n",
    "def is_mention(word: str) -> bool:\n",
    "    return bool(is_mention_regex.match(word))\n",
    "\n",
    "def is_money(word: str) -> bool:\n",
    "    return bool(is_money_regex.match(word))\n",
    "\n",
    "def is_url(word: str) -> bool:\n",
    "    return bool(is_url_regex.match(word))\n",
    "\n",
    "def is_punct(word: str) -> bool:\n",
    "    return bool(is_punct_reg.match(word))\n",
    "\n",
    "def is_repeated_punct(word: str) -> bool:\n",
    "    return bool(is_repeated_punct_reg.match(word))\n",
    "\n",
    "def is_stopword(word: str) -> bool:\n",
    "    return word.lower() in stop_words_set\n",
    "\n",
    "def is_first_capital(word: str) -> bool:\n",
    "    return bool(is_first_capital_reg.match(word))\n",
    "\n",
    "def has_emoji(word: str) -> bool:\n",
    "    doc = nlp(word)\n",
    "    return doc._.has_emoji"
   ]
  },
  {
   "cell_type": "code",
   "execution_count": 36,
   "metadata": {},
   "outputs": [],
   "source": [
    "# for word embeddings models\n",
    "\n",
    "sents_only = []\n",
    "\n",
    "for sent in train_sequences:\n",
    "    sent_words = []\n",
    "    for w in sent:\n",
    "        processed_word = lemmatizer.lemmatize(w[0].lower())\n",
    "        sent_words.append(processed_word)\n",
    "    sents_only.append(sent_words)"
   ]
  },
  {
   "cell_type": "code",
   "execution_count": 37,
   "metadata": {},
   "outputs": [
    {
     "data": {
      "text/plain": [
       "(166654, 313650)"
      ]
     },
     "execution_count": 37,
     "metadata": {},
     "output_type": "execute_result"
    }
   ],
   "source": [
    "# pre-trained model, glove-twitter-25\n",
    "glove_vectors = gensim.downloader.load('glove-twitter-25')\n",
    "\n",
    "# custom model\n",
    "vector_size = 5\n",
    "model = Word2Vec(vector_size=vector_size)\n",
    "model.build_vocab(sents_only)  # prepare the model vocabulary\n",
    "model.train(sents_only, total_examples=model.corpus_count, epochs=model.epochs)"
   ]
  },
  {
   "cell_type": "code",
   "execution_count": 38,
   "metadata": {},
   "outputs": [],
   "source": [
    "def apply_w2v(word: str):\n",
    "    processed_word = lemmatizer.lemmatize(word.lower())\n",
    "    if word in model.wv:\n",
    "        pred = model.wv.get_vector(processed_word)\n",
    "        if vector_size == 1:\n",
    "            return pred[0]\n",
    "        \n",
    "        return pred\n",
    "        \n",
    "    return np.zeros(vector_size)\n",
    "\n",
    "\n",
    "def apply_glove(word: str):\n",
    "    processed_word = lemmatizer.lemmatize(word.lower())\n",
    "    if word in glove_vectors:\n",
    "        pred = glove_vectors[processed_word]\n",
    "        if vector_size == 1:\n",
    "            return pred[0]\n",
    "        \n",
    "        return pred\n",
    "        \n",
    "    return np.zeros(vector_size)"
   ]
  },
  {
   "cell_type": "code",
   "execution_count": 39,
   "metadata": {},
   "outputs": [],
   "source": [
    "feature_regex = {\n",
    "                    'is_mention': is_mention_regex,\n",
    "                    'is_money': is_money_regex,\n",
    "                    'is_url': is_url_regex,\n",
    "                    'is_hashtag': is_hashtag_regex,\n",
    "                    'is_punct': is_punct_reg,\n",
    "                    'is_repeated_punct': is_repeated_punct_reg,\n",
    "                    'is_first_capital': is_first_capital_reg,\n",
    "                }\n",
    "\n",
    "def for_features(sent, i, features, features_add, context):\n",
    "    \n",
    "    for feat in features_add:\n",
    "        add_in = ''\n",
    "        word = sent[i][0]\n",
    "        features = add_feature(word, features, feat, add_in)\n",
    "        for c in context:\n",
    "            if c == 0:\n",
    "                continue\n",
    "            if c <= i:\n",
    "                word = sent[i - c][0]\n",
    "                add_in = f'-{c}:'\n",
    "                features = add_feature(word, features, feat, add_in)\n",
    "            if i < (len(sent) - c):\n",
    "                word = sent[i + c][0]\n",
    "                add_in = f'+{c}:'\n",
    "                features = add_feature(word, features, feat, add_in)\n",
    "        \n",
    "    return features\n",
    "\n",
    "def add_feature(word, features, add_feature, context):\n",
    "    if add_feature == 'has_emoji':\n",
    "        feature_value = has_emoji(word)\n",
    "    elif add_feature == 'is_stopword':\n",
    "        feature_value = is_stopword(word)\n",
    "    elif add_feature == 'lemma':\n",
    "        feature_value = lemmatizer.lemmatize(word)\n",
    "    elif add_feature == 'w2v':\n",
    "        feature_values = apply_w2v(word)\n",
    "        for index, feature_value in enumerate(feature_values):\n",
    "            features.update({f'{context}word.{add_feature}{index}': feature_value})\n",
    "        return features\n",
    "    \n",
    "    elif add_feature == 'glove':\n",
    "        feature_values = apply_glove(word)\n",
    "        for index, feature_value in enumerate(feature_values):\n",
    "            features.update({f'{context}word.{add_feature}{index}': feature_value})\n",
    "        return features\n",
    "            \n",
    "    else:\n",
    "        reg = feature_regex[add_feature]\n",
    "        feature_value = bool(reg.match(word))\n",
    "    \n",
    "    features.update({f'{context}word.{add_feature}': feature_value})\n",
    "    return features"
   ]
  },
  {
   "cell_type": "code",
   "execution_count": 40,
   "metadata": {},
   "outputs": [],
   "source": [
    "def preword2feat(sent, i, extended, extra=None):\n",
    "    features = word2features(sent, i)\n",
    "    if extended:\n",
    "        features = extended_context(features=features, sent=sent, i=i)\n",
    "    if extra:\n",
    "        context = extra[\"context\"]\n",
    "        extra_features = extra[\"features\"]\n",
    "        features = for_features(sent, i, features, extra_features, context)\n",
    "    return features\n",
    "\n",
    "def extended_context(features, sent, i):\n",
    "\n",
    "    if i > 1:\n",
    "        word2 = sent[i-2][0]\n",
    "        postag2 = sent[i-2][1]\n",
    "        features.update({\n",
    "            '-2:word.lower()': word2.lower(),\n",
    "            '-2:word.istitle()': word2.istitle(),\n",
    "            '-2:word.isupper()': word2.isupper(),\n",
    "            '-2:postag': postag2,\n",
    "            '-2:postag[:2]': postag2[:2],\n",
    "        })\n",
    "\n",
    "    if i < len(sent)-2:\n",
    "        word2 = sent[i+2][0]\n",
    "        postag2 = sent[i+2][1]\n",
    "        features.update({\n",
    "            '+2:word.lower()': word2.lower(),\n",
    "            '+2:word.istitle()': word2.istitle(),\n",
    "            '+2:word.isupper()': word2.isupper(),\n",
    "            '+2:postag': postag2,\n",
    "            '+2:postag[:2]': postag2[:2],\n",
    "        })\n",
    "    return features\n",
    "\n",
    "def word2features(sent, i):\n",
    "    word = sent[i][0]\n",
    "    postag = sent[i][1]\n",
    "\n",
    "    features = {\n",
    "        'bias': 1.0,\n",
    "        'word.lower()': word.lower(),\n",
    "        'word[-3:]': word[-3:],\n",
    "        'word[-2:]': word[-2:],\n",
    "        'word.isupper()': word.isupper(),\n",
    "        'word.istitle()': word.istitle(),\n",
    "        'word.isdigit()': word.isdigit(),\n",
    "        'postag': postag,\n",
    "        'postag[:2]': postag[:2],\n",
    "    }\n",
    "\n",
    "    if i > 0:\n",
    "        word1 = sent[i-1][0]\n",
    "        postag1 = sent[i-1][1]\n",
    "        features.update({\n",
    "            '-1:word.lower()': word1.lower(),\n",
    "            '-1:word.istitle()': word1.istitle(),\n",
    "            '-1:word.isupper()': word1.isupper(),\n",
    "            '-1:postag': postag1,\n",
    "            '-1:postag[:2]': postag1[:2],\n",
    "        })\n",
    "    else:\n",
    "        features['BOS'] = True\n",
    "\n",
    "    if i < len(sent)-1:\n",
    "        word1 = sent[i+1][0]\n",
    "        postag1 = sent[i+1][1]\n",
    "        features.update({\n",
    "            '+1:word.lower()': word1.lower(),\n",
    "            '+1:word.istitle()': word1.istitle(),\n",
    "            '+1:word.isupper()': word1.isupper(),\n",
    "            '+1:postag': postag1,\n",
    "            '+1:postag[:2]': postag1[:2],\n",
    "        })\n",
    "    else:\n",
    "        features['EOS'] = True\n",
    "\n",
    "    return features\n",
    "\n",
    "def sent2features(sent, extended=False, extra=None):\n",
    "    return [preword2feat(sent, i, extended=extended, extra=extra) for i in range(len(sent))]\n",
    "\n",
    "def sent2labels(sent):\n",
    "    return [label for token, postag, label in sent]\n",
    "\n",
    "def sent2tokens(sent):\n",
    "    return [token for token, postag, label in sent]"
   ]
  },
  {
   "cell_type": "code",
   "execution_count": 41,
   "metadata": {},
   "outputs": [],
   "source": [
    "\n",
    "def hyper_param_opt(x_train: list, y_train: list,x_dev: list, y_dev: list, labels: list, params: dict, hyper_params: dict):\n",
    "  crf = sklearn_crfsuite.CRF(\n",
    "                              algorithm=params[\"algorithm\"],\n",
    "                              max_iterations=params[\"max_iter\"],\n",
    "                              all_possible_transitions=params[\"poss_trans\"]\n",
    "                            )\n",
    "\n",
    "  # use the same metric for evaluation\n",
    "  f1_scorer = make_scorer(metrics.flat_f1_score,\n",
    "                      average='weighted', labels=labels)\n",
    "\n",
    "  train_set_x = x_train + x_dev\n",
    "  train_set_y = y_train + y_dev\n",
    "\n",
    "  test_fold = [-1 if i < len(x_train) else 0 for i in range(len(train_set_x))]\n",
    "  ps = PredefinedSplit(test_fold)\n",
    "  \n",
    "  # search\n",
    "  rs = RandomizedSearchCV(crf, hyper_params,\n",
    "                          cv=ps,\n",
    "                          verbose=0,\n",
    "                          n_jobs=-1,\n",
    "                          n_iter=50,\n",
    "                          scoring=f1_scorer,\n",
    "                          random_state=1)\n",
    "\n",
    "  rs.fit(train_set_x, train_set_y)\n",
    "\n",
    "  return rs"
   ]
  },
  {
   "cell_type": "markdown",
   "metadata": {},
   "source": [
    "### Baseline"
   ]
  },
  {
   "cell_type": "code",
   "execution_count": 42,
   "metadata": {},
   "outputs": [],
   "source": [
    "# create X and y for train, dev, test\n",
    "X_train = [sent2features(s) for s in train_sequences]\n",
    "y_train = [sent2labels(s) for s in train_sequences]\n",
    "\n",
    "X_dev = [sent2features(s) for s in dev_sequences]\n",
    "y_dev = [sent2labels(s) for s in dev_sequences]\n",
    "\n",
    "X_test = [sent2features(s) for s in test_sequences]\n",
    "y_test = [sent2labels(s) for s in test_sequences]"
   ]
  },
  {
   "cell_type": "code",
   "execution_count": 43,
   "metadata": {},
   "outputs": [
    {
     "name": "stdout",
     "output_type": "stream",
     "text": [
      "F1-Score: 0.13829694021844366\n",
      "                 precision    recall  f1-score   support\n",
      "\n",
      "     B-location      0.357     0.200     0.256       150\n",
      "     I-location      0.304     0.074     0.120        94\n",
      "        B-group      0.318     0.042     0.075       165\n",
      "  B-corporation      0.000     0.000     0.000        66\n",
      "       B-person      0.570     0.133     0.216       429\n",
      "B-creative-work      0.250     0.021     0.039       142\n",
      "      B-product      0.500     0.024     0.045       127\n",
      "       I-person      0.583     0.214     0.313       131\n",
      "I-creative-work      0.286     0.037     0.065       218\n",
      "  I-corporation      0.000     0.000     0.000        22\n",
      "        I-group      0.400     0.086     0.141        70\n",
      "      I-product      0.214     0.048     0.078       126\n",
      "\n",
      "      micro avg      0.420     0.089     0.147      1740\n",
      "      macro avg      0.315     0.073     0.112      1740\n",
      "   weighted avg      0.386     0.089     0.138      1740\n",
      "\n"
     ]
    }
   ],
   "source": [
    "crf = sklearn_crfsuite.CRF(\n",
    "    algorithm='lbfgs',\n",
    "    c1=0.1,\n",
    "    c2=0.1,\n",
    "    max_iterations=100,\n",
    "    all_possible_transitions=True\n",
    ")\n",
    "crf.fit(X_train, y_train)\n",
    "\n",
    "labels = list(crf.classes_)\n",
    "labels.remove('O')\n",
    "labels\n",
    "\n",
    "y_pred = crf.predict(X_test)\n",
    "\n",
    "print('F1-Score:', metrics.flat_f1_score(y_test, y_pred,\n",
    "                      average='weighted', labels=labels))\n",
    "\n",
    "print(metrics.flat_classification_report(y_test, y_pred, labels=labels, digits=3))"
   ]
  },
  {
   "cell_type": "code",
   "execution_count": 44,
   "metadata": {},
   "outputs": [
    {
     "name": "stderr",
     "output_type": "stream",
     "text": [
      "/Users/andreassavva/miniforge3/envs/crf/lib/python3.10/site-packages/sklearn/base.py:193: FutureWarning: From version 0.24, get_params will raise an AttributeError if a parameter cannot be retrieved as an instance attribute. Previously it would return None.\n",
      "  warnings.warn('From version 0.24, get_params will raise an '\n",
      "/Users/andreassavva/miniforge3/envs/crf/lib/python3.10/site-packages/sklearn/base.py:193: FutureWarning: From version 0.24, get_params will raise an AttributeError if a parameter cannot be retrieved as an instance attribute. Previously it would return None.\n",
      "  warnings.warn('From version 0.24, get_params will raise an '\n",
      "/Users/andreassavva/miniforge3/envs/crf/lib/python3.10/site-packages/sklearn/base.py:193: FutureWarning: From version 0.24, get_params will raise an AttributeError if a parameter cannot be retrieved as an instance attribute. Previously it would return None.\n",
      "  warnings.warn('From version 0.24, get_params will raise an '\n",
      "/Users/andreassavva/miniforge3/envs/crf/lib/python3.10/site-packages/sklearn/base.py:193: FutureWarning: From version 0.24, get_params will raise an AttributeError if a parameter cannot be retrieved as an instance attribute. Previously it would return None.\n",
      "  warnings.warn('From version 0.24, get_params will raise an '\n",
      "/Users/andreassavva/miniforge3/envs/crf/lib/python3.10/site-packages/sklearn/base.py:193: FutureWarning: From version 0.24, get_params will raise an AttributeError if a parameter cannot be retrieved as an instance attribute. Previously it would return None.\n",
      "  warnings.warn('From version 0.24, get_params will raise an '\n",
      "/Users/andreassavva/miniforge3/envs/crf/lib/python3.10/site-packages/sklearn/base.py:193: FutureWarning: From version 0.24, get_params will raise an AttributeError if a parameter cannot be retrieved as an instance attribute. Previously it would return None.\n",
      "  warnings.warn('From version 0.24, get_params will raise an '\n",
      "/Users/andreassavva/miniforge3/envs/crf/lib/python3.10/site-packages/sklearn/base.py:193: FutureWarning: From version 0.24, get_params will raise an AttributeError if a parameter cannot be retrieved as an instance attribute. Previously it would return None.\n",
      "  warnings.warn('From version 0.24, get_params will raise an '\n",
      "/Users/andreassavva/miniforge3/envs/crf/lib/python3.10/site-packages/sklearn/base.py:193: FutureWarning: From version 0.24, get_params will raise an AttributeError if a parameter cannot be retrieved as an instance attribute. Previously it would return None.\n",
      "  warnings.warn('From version 0.24, get_params will raise an '\n",
      "/Users/andreassavva/miniforge3/envs/crf/lib/python3.10/site-packages/sklearn/base.py:193: FutureWarning: From version 0.24, get_params will raise an AttributeError if a parameter cannot be retrieved as an instance attribute. Previously it would return None.\n",
      "  warnings.warn('From version 0.24, get_params will raise an '\n",
      "/Users/andreassavva/miniforge3/envs/crf/lib/python3.10/site-packages/sklearn/base.py:193: FutureWarning: From version 0.24, get_params will raise an AttributeError if a parameter cannot be retrieved as an instance attribute. Previously it would return None.\n",
      "  warnings.warn('From version 0.24, get_params will raise an '\n",
      "/Users/andreassavva/miniforge3/envs/crf/lib/python3.10/site-packages/sklearn/base.py:193: FutureWarning: From version 0.24, get_params will raise an AttributeError if a parameter cannot be retrieved as an instance attribute. Previously it would return None.\n",
      "  warnings.warn('From version 0.24, get_params will raise an '\n"
     ]
    },
    {
     "name": "stdout",
     "output_type": "stream",
     "text": [
      "best params: {'c1': 0.44495286986762533, 'c2': 0.06015838309715876}\n",
      "best CV score: 0.17831900525216518\n",
      "model size: 0.69M\n",
      "F1-Score: 0.2057116353635765\n",
      "                 precision    recall  f1-score   support\n",
      "\n",
      "     B-location      0.357     0.267     0.305       150\n",
      "     I-location      0.333     0.128     0.185        94\n",
      "        B-group      0.300     0.036     0.065       165\n",
      "  B-corporation      0.400     0.030     0.056        66\n",
      "       B-person      0.609     0.273     0.377       429\n",
      "B-creative-work      0.500     0.063     0.112       142\n",
      "      B-product      0.389     0.055     0.097       127\n",
      "       I-person      0.564     0.237     0.333       131\n",
      "I-creative-work      0.378     0.064     0.110       218\n",
      "  I-corporation      0.333     0.045     0.080        22\n",
      "        I-group      0.227     0.071     0.109        70\n",
      "      I-product      0.214     0.071     0.107       126\n",
      "\n",
      "      micro avg      0.452     0.145     0.220      1740\n",
      "      macro avg      0.384     0.112     0.161      1740\n",
      "   weighted avg      0.431     0.145     0.206      1740\n",
      "\n"
     ]
    }
   ],
   "source": [
    "rs_params = {\n",
    "                \"algorithm\": 'lbfgs',\n",
    "                \"max_iter\": 100,\n",
    "                \"poss_trans\": True\n",
    "            }\n",
    "\n",
    "params_space = {\n",
    "    'c1': scipy.stats.expon(scale=0.5),\n",
    "    'c2': scipy.stats.expon(scale=0.05),\n",
    "}\n",
    "\n",
    "rs = hyper_param_opt(X_train, y_train, X_dev, y_dev, labels, rs_params, params_space)\n",
    "\n",
    "print('best params:', rs.best_params_)\n",
    "print('best CV score:', rs.best_score_)\n",
    "print('model size: {:0.2f}M'.format(rs.best_estimator_.size_ / 1000000))\n",
    "\n",
    "best_c1 = rs.best_params_[\"c1\"]\n",
    "best_c2 = rs.best_params_[\"c2\"]\n",
    "\n",
    "y_pred = rs.best_estimator_.predict(X_test)\n",
    "\n",
    "print('F1-Score:', metrics.flat_f1_score(y_test, y_pred,\n",
    "                      average='weighted', labels=labels))\n",
    "\n",
    "print(metrics.flat_classification_report(y_test, y_pred, labels=labels, digits=3))"
   ]
  },
  {
   "cell_type": "markdown",
   "metadata": {},
   "source": [
    "### Extended Context"
   ]
  },
  {
   "cell_type": "code",
   "execution_count": 45,
   "metadata": {},
   "outputs": [],
   "source": [
    "# extended context\n",
    "X_train_cont = [sent2features(s, True) for s in train_sequences]\n",
    "y_train_cont = [sent2labels(s) for s in train_sequences]\n",
    "\n",
    "X_dev_cont = [sent2features(s, True) for s in dev_sequences]\n",
    "y_dev_cont = [sent2labels(s) for s in dev_sequences]\n",
    "\n",
    "X_test_cont = [sent2features(s, True) for s in test_sequences]\n",
    "y_test_cont = [sent2labels(s) for s in test_sequences]"
   ]
  },
  {
   "cell_type": "code",
   "execution_count": 46,
   "metadata": {},
   "outputs": [
    {
     "name": "stdout",
     "output_type": "stream",
     "text": [
      "F1-Score: 0.15152805308205766\n",
      "                 precision    recall  f1-score   support\n",
      "\n",
      "     B-location      0.449     0.267     0.335       150\n",
      "     I-location      0.433     0.138     0.210        94\n",
      "        B-group      0.320     0.048     0.084       165\n",
      "  B-corporation      0.000     0.000     0.000        66\n",
      "       B-person      0.512     0.145     0.225       429\n",
      "B-creative-work      0.222     0.028     0.050       142\n",
      "      B-product      0.250     0.008     0.015       127\n",
      "       I-person      0.462     0.229     0.306       131\n",
      "I-creative-work      0.256     0.046     0.078       218\n",
      "  I-corporation      0.000     0.000     0.000        22\n",
      "        I-group      0.375     0.086     0.140        70\n",
      "      I-product      0.308     0.032     0.058       126\n",
      "\n",
      "      micro avg      0.423     0.102     0.165      1740\n",
      "      macro avg      0.299     0.086     0.125      1740\n",
      "   weighted avg      0.359     0.102     0.152      1740\n",
      "\n"
     ]
    },
    {
     "name": "stderr",
     "output_type": "stream",
     "text": [
      "/Users/andreassavva/miniforge3/envs/crf/lib/python3.10/site-packages/sklearn/metrics/_classification.py:1272: UndefinedMetricWarning: Precision and F-score are ill-defined and being set to 0.0 in labels with no predicted samples. Use `zero_division` parameter to control this behavior.\n",
      "  _warn_prf(average, modifier, msg_start, len(result))\n"
     ]
    }
   ],
   "source": [
    "crf = sklearn_crfsuite.CRF(\n",
    "    algorithm='lbfgs',\n",
    "    c1=best_c1,\n",
    "    c2=best_c2,\n",
    "    max_iterations=100,\n",
    "    all_possible_transitions=True\n",
    ")\n",
    "\n",
    "crf.fit(X_train_cont, y_train_cont)\n",
    "\n",
    "y_pred = crf.predict(X_test_cont)\n",
    "\n",
    "print('F1-Score:', metrics.flat_f1_score(y_test_cont, y_pred,\n",
    "                      average='weighted', labels=labels))\n",
    "\n",
    "print(metrics.flat_classification_report(y_test_cont, y_pred, labels=labels, digits=3))"
   ]
  },
  {
   "cell_type": "code",
   "execution_count": 47,
   "metadata": {},
   "outputs": [
    {
     "name": "stderr",
     "output_type": "stream",
     "text": [
      "/Users/andreassavva/miniforge3/envs/crf/lib/python3.10/site-packages/sklearn/base.py:193: FutureWarning: From version 0.24, get_params will raise an AttributeError if a parameter cannot be retrieved as an instance attribute. Previously it would return None.\n",
      "  warnings.warn('From version 0.24, get_params will raise an '\n"
     ]
    },
    {
     "name": "stdout",
     "output_type": "stream",
     "text": [
      "best params: {'c1': 0.338216973284279, 'c2': 0.0027419547244570343}\n",
      "best CV score: 0.17996364460883024\n",
      "model size: 0.80M\n",
      "F1-Score: 0.2304239705395028\n",
      "                 precision    recall  f1-score   support\n",
      "\n",
      "     B-location      0.442     0.280     0.343       150\n",
      "     I-location      0.415     0.181     0.252        94\n",
      "        B-group      0.238     0.030     0.054       165\n",
      "  B-corporation      0.500     0.045     0.083        66\n",
      "       B-person      0.576     0.310     0.403       429\n",
      "B-creative-work      0.333     0.056     0.096       142\n",
      "      B-product      0.250     0.039     0.068       127\n",
      "       I-person      0.514     0.290     0.371       131\n",
      "I-creative-work      0.415     0.101     0.162       218\n",
      "  I-corporation      0.250     0.045     0.077        22\n",
      "        I-group      0.556     0.071     0.127        70\n",
      "      I-product      0.312     0.119     0.172       126\n",
      "\n",
      "      micro avg      0.470     0.169     0.249      1740\n",
      "      macro avg      0.400     0.131     0.184      1740\n",
      "   weighted avg      0.428     0.169     0.230      1740\n",
      "\n"
     ]
    }
   ],
   "source": [
    "rs = hyper_param_opt(X_train_cont, y_train_cont, X_dev_cont, y_dev_cont, labels, rs_params, params_space)\n",
    "\n",
    "print('best params:', rs.best_params_)\n",
    "print('best CV score:', rs.best_score_)\n",
    "print('model size: {:0.2f}M'.format(rs.best_estimator_.size_ / 1000000))\n",
    "\n",
    "# best_c1 = rs.best_params_[\"c1\"]\n",
    "# best_c2 = rs.best_params_[\"c2\"]\n",
    "\n",
    "y_pred = rs.best_estimator_.predict(X_test_cont)\n",
    "\n",
    "print('F1-Score:', metrics.flat_f1_score(y_test_cont, y_pred,\n",
    "                      average='weighted', labels=labels))\n",
    "\n",
    "print(metrics.flat_classification_report(y_test_cont, y_pred, labels=labels, digits=3))"
   ]
  },
  {
   "cell_type": "markdown",
   "metadata": {},
   "source": [
    "### Extended Features Test"
   ]
  },
  {
   "cell_type": "code",
   "execution_count": 52,
   "metadata": {},
   "outputs": [],
   "source": [
    "def create_xy(sequences, extended, extra):\n",
    "    x = [sent2features(s, extended, extra) for s in sequences]\n",
    "    y = [sent2labels(s) for s in sequences]\n",
    "    return x, y\n",
    "\n",
    "\n",
    "def run_train(train_x, train_y):\n",
    "    crf = sklearn_crfsuite.CRF(\n",
    "                algorithm='lbfgs',\n",
    "                c1=best_c1,\n",
    "                c2=best_c2,\n",
    "                max_iterations=100,\n",
    "                all_possible_transitions=True\n",
    "                )\n",
    "\n",
    "    crf.fit(train_x, train_y)\n",
    "\n",
    "    return crf\n",
    "\n",
    "def run_test(extra, labels, fname):\n",
    "    X_train_ext, y_train_ext = create_xy(train_sequences, True, extra)\n",
    "    X_dev_ext, y_dev_ext = create_xy(dev_sequences, True, extra)\n",
    "    X_test_ext, y_test_ext = create_xy(test_sequences, True, extra)\n",
    "    crf = run_train(X_train_ext, y_train_ext)\n",
    "\n",
    "    y_pred = crf.predict(X_test_ext)\n",
    "\n",
    "    train_f1 = metrics.flat_f1_score(y_test_ext, y_pred, average='weighted', labels=labels)\n",
    "\n",
    "    train_report = metrics.flat_classification_report(y_test_ext, y_pred, labels=labels, digits=3, output_dict=True)\n",
    "\n",
    "    rs = hyper_param_opt(X_train_ext, y_train_ext, X_dev_ext, y_dev_ext, labels, rs_params, params_space)\n",
    "\n",
    "    print('best params:', rs.best_params_)\n",
    "    print('best CV score:', rs.best_score_)\n",
    "    print('model size: {:0.2f}M'.format(rs.best_estimator_.size_ / 1000000))\n",
    "\n",
    "    best_c1 = rs.best_params_[\"c1\"]\n",
    "    best_c2 = rs.best_params_[\"c2\"]\n",
    "\n",
    "    y_pred = rs.best_estimator_.predict(X_test_ext)\n",
    "\n",
    "    hpo_f1 = metrics.flat_f1_score(y_test_ext, y_pred, average='weighted', labels=labels)\n",
    "\n",
    "    hpo_report = metrics.flat_classification_report(y_test_ext, y_pred, labels=labels, digits=3, output_dict=True)\n",
    "\n",
    "    df_train = pd.DataFrame(train_report).transpose()\n",
    "    df_train  = df_train.reindex(df_train.index.values.tolist()+['HPO'])\n",
    "    df_hpo = pd.DataFrame(hpo_report).transpose()\n",
    "    final = pd.concat([df_train, df_hpo])\n",
    "    final.to_csv(f'results/{fname}')"
   ]
  },
  {
   "cell_type": "code",
   "execution_count": 53,
   "metadata": {},
   "outputs": [
    {
     "name": "stderr",
     "output_type": "stream",
     "text": [
      "/Users/andreassavva/miniforge3/envs/crf/lib/python3.10/site-packages/sklearn/base.py:193: FutureWarning: From version 0.24, get_params will raise an AttributeError if a parameter cannot be retrieved as an instance attribute. Previously it would return None.\n",
      "  warnings.warn('From version 0.24, get_params will raise an '\n",
      "/Users/andreassavva/miniforge3/envs/crf/lib/python3.10/site-packages/sklearn/base.py:193: FutureWarning: From version 0.24, get_params will raise an AttributeError if a parameter cannot be retrieved as an instance attribute. Previously it would return None.\n",
      "  warnings.warn('From version 0.24, get_params will raise an '\n",
      "/Users/andreassavva/miniforge3/envs/crf/lib/python3.10/site-packages/sklearn/base.py:193: FutureWarning: From version 0.24, get_params will raise an AttributeError if a parameter cannot be retrieved as an instance attribute. Previously it would return None.\n",
      "  warnings.warn('From version 0.24, get_params will raise an '\n",
      "/Users/andreassavva/miniforge3/envs/crf/lib/python3.10/site-packages/sklearn/base.py:193: FutureWarning: From version 0.24, get_params will raise an AttributeError if a parameter cannot be retrieved as an instance attribute. Previously it would return None.\n",
      "  warnings.warn('From version 0.24, get_params will raise an '\n",
      "/Users/andreassavva/miniforge3/envs/crf/lib/python3.10/site-packages/sklearn/base.py:193: FutureWarning: From version 0.24, get_params will raise an AttributeError if a parameter cannot be retrieved as an instance attribute. Previously it would return None.\n",
      "  warnings.warn('From version 0.24, get_params will raise an '\n",
      "/Users/andreassavva/miniforge3/envs/crf/lib/python3.10/site-packages/sklearn/base.py:193: FutureWarning: From version 0.24, get_params will raise an AttributeError if a parameter cannot be retrieved as an instance attribute. Previously it would return None.\n",
      "  warnings.warn('From version 0.24, get_params will raise an '\n",
      "/Users/andreassavva/miniforge3/envs/crf/lib/python3.10/site-packages/sklearn/base.py:193: FutureWarning: From version 0.24, get_params will raise an AttributeError if a parameter cannot be retrieved as an instance attribute. Previously it would return None.\n",
      "  warnings.warn('From version 0.24, get_params will raise an '\n",
      "/Users/andreassavva/miniforge3/envs/crf/lib/python3.10/site-packages/sklearn/base.py:193: FutureWarning: From version 0.24, get_params will raise an AttributeError if a parameter cannot be retrieved as an instance attribute. Previously it would return None.\n",
      "  warnings.warn('From version 0.24, get_params will raise an '\n",
      "/Users/andreassavva/miniforge3/envs/crf/lib/python3.10/site-packages/sklearn/base.py:193: FutureWarning: From version 0.24, get_params will raise an AttributeError if a parameter cannot be retrieved as an instance attribute. Previously it would return None.\n",
      "  warnings.warn('From version 0.24, get_params will raise an '\n",
      "/Users/andreassavva/miniforge3/envs/crf/lib/python3.10/site-packages/sklearn/base.py:193: FutureWarning: From version 0.24, get_params will raise an AttributeError if a parameter cannot be retrieved as an instance attribute. Previously it would return None.\n",
      "  warnings.warn('From version 0.24, get_params will raise an '\n"
     ]
    },
    {
     "name": "stdout",
     "output_type": "stream",
     "text": [
      "best params: {'c1': 0.27166968530912255, 'c2': 0.057793985485471114}\n",
      "best CV score: 0.18468059963870465\n",
      "model size: 1.01M\n"
     ]
    },
    {
     "name": "stderr",
     "output_type": "stream",
     "text": [
      "/Users/andreassavva/miniforge3/envs/crf/lib/python3.10/site-packages/sklearn/metrics/_classification.py:1272: UndefinedMetricWarning: Precision and F-score are ill-defined and being set to 0.0 in labels with no predicted samples. Use `zero_division` parameter to control this behavior.\n",
      "  _warn_prf(average, modifier, msg_start, len(result))\n",
      "/Users/andreassavva/miniforge3/envs/crf/lib/python3.10/site-packages/sklearn/base.py:193: FutureWarning: From version 0.24, get_params will raise an AttributeError if a parameter cannot be retrieved as an instance attribute. Previously it would return None.\n",
      "  warnings.warn('From version 0.24, get_params will raise an '\n"
     ]
    },
    {
     "name": "stdout",
     "output_type": "stream",
     "text": [
      "best params: {'c1': 0.338216973284279, 'c2': 0.0027419547244570343}\n",
      "best CV score: 0.17996364460883024\n",
      "model size: 0.80M\n"
     ]
    },
    {
     "name": "stderr",
     "output_type": "stream",
     "text": [
      "/Users/andreassavva/miniforge3/envs/crf/lib/python3.10/site-packages/sklearn/metrics/_classification.py:1272: UndefinedMetricWarning: Precision and F-score are ill-defined and being set to 0.0 in labels with no predicted samples. Use `zero_division` parameter to control this behavior.\n",
      "  _warn_prf(average, modifier, msg_start, len(result))\n",
      "/Users/andreassavva/miniforge3/envs/crf/lib/python3.10/site-packages/sklearn/base.py:193: FutureWarning: From version 0.24, get_params will raise an AttributeError if a parameter cannot be retrieved as an instance attribute. Previously it would return None.\n",
      "  warnings.warn('From version 0.24, get_params will raise an '\n"
     ]
    },
    {
     "name": "stdout",
     "output_type": "stream",
     "text": [
      "best params: {'c1': 0.5927393689073626, 'c2': 0.026737072845138946}\n",
      "best CV score: 0.18094767007406312\n",
      "model size: 0.68M\n"
     ]
    },
    {
     "name": "stderr",
     "output_type": "stream",
     "text": [
      "/Users/andreassavva/miniforge3/envs/crf/lib/python3.10/site-packages/sklearn/metrics/_classification.py:1272: UndefinedMetricWarning: Precision and F-score are ill-defined and being set to 0.0 in labels with no predicted samples. Use `zero_division` parameter to control this behavior.\n",
      "  _warn_prf(average, modifier, msg_start, len(result))\n",
      "/Users/andreassavva/miniforge3/envs/crf/lib/python3.10/site-packages/sklearn/base.py:193: FutureWarning: From version 0.24, get_params will raise an AttributeError if a parameter cannot be retrieved as an instance attribute. Previously it would return None.\n",
      "  warnings.warn('From version 0.24, get_params will raise an '\n"
     ]
    },
    {
     "name": "stdout",
     "output_type": "stream",
     "text": [
      "best params: {'c1': 0.42679602002848455, 'c2': 0.007933879076308518}\n",
      "best CV score: 0.18467416655568344\n",
      "model size: 0.75M\n"
     ]
    },
    {
     "name": "stderr",
     "output_type": "stream",
     "text": [
      "/Users/andreassavva/miniforge3/envs/crf/lib/python3.10/site-packages/sklearn/metrics/_classification.py:1272: UndefinedMetricWarning: Precision and F-score are ill-defined and being set to 0.0 in labels with no predicted samples. Use `zero_division` parameter to control this behavior.\n",
      "  _warn_prf(average, modifier, msg_start, len(result))\n",
      "/Users/andreassavva/miniforge3/envs/crf/lib/python3.10/site-packages/sklearn/base.py:193: FutureWarning: From version 0.24, get_params will raise an AttributeError if a parameter cannot be retrieved as an instance attribute. Previously it would return None.\n",
      "  warnings.warn('From version 0.24, get_params will raise an '\n",
      "/Users/andreassavva/miniforge3/envs/crf/lib/python3.10/site-packages/sklearn/base.py:193: FutureWarning: From version 0.24, get_params will raise an AttributeError if a parameter cannot be retrieved as an instance attribute. Previously it would return None.\n",
      "  warnings.warn('From version 0.24, get_params will raise an '\n",
      "/Users/andreassavva/miniforge3/envs/crf/lib/python3.10/site-packages/sklearn/base.py:193: FutureWarning: From version 0.24, get_params will raise an AttributeError if a parameter cannot be retrieved as an instance attribute. Previously it would return None.\n",
      "  warnings.warn('From version 0.24, get_params will raise an '\n",
      "/Users/andreassavva/miniforge3/envs/crf/lib/python3.10/site-packages/sklearn/base.py:193: FutureWarning: From version 0.24, get_params will raise an AttributeError if a parameter cannot be retrieved as an instance attribute. Previously it would return None.\n",
      "  warnings.warn('From version 0.24, get_params will raise an '\n",
      "/Users/andreassavva/miniforge3/envs/crf/lib/python3.10/site-packages/sklearn/base.py:193: FutureWarning: From version 0.24, get_params will raise an AttributeError if a parameter cannot be retrieved as an instance attribute. Previously it would return None.\n",
      "  warnings.warn('From version 0.24, get_params will raise an '\n"
     ]
    },
    {
     "name": "stdout",
     "output_type": "stream",
     "text": [
      "best params: {'c1': 0.25348058103431914, 'c2': 0.009037391614426122}\n",
      "best CV score: 0.1825561213874408\n",
      "model size: 0.90M\n"
     ]
    },
    {
     "name": "stderr",
     "output_type": "stream",
     "text": [
      "/Users/andreassavva/miniforge3/envs/crf/lib/python3.10/site-packages/sklearn/base.py:193: FutureWarning: From version 0.24, get_params will raise an AttributeError if a parameter cannot be retrieved as an instance attribute. Previously it would return None.\n",
      "  warnings.warn('From version 0.24, get_params will raise an '\n"
     ]
    },
    {
     "name": "stdout",
     "output_type": "stream",
     "text": [
      "best params: {'c1': 0.27166968530912255, 'c2': 0.057793985485471114}\n",
      "best CV score: 0.18270998097458646\n",
      "model size: 1.02M\n"
     ]
    },
    {
     "name": "stderr",
     "output_type": "stream",
     "text": [
      "/Users/andreassavva/miniforge3/envs/crf/lib/python3.10/site-packages/sklearn/base.py:193: FutureWarning: From version 0.24, get_params will raise an AttributeError if a parameter cannot be retrieved as an instance attribute. Previously it would return None.\n",
      "  warnings.warn('From version 0.24, get_params will raise an '\n"
     ]
    },
    {
     "name": "stdout",
     "output_type": "stream",
     "text": [
      "best params: {'c1': 0.16968094082387417, 'c2': 0.006964745469403186}\n",
      "best CV score: 0.19832554972071642\n",
      "model size: 0.95M\n"
     ]
    },
    {
     "name": "stderr",
     "output_type": "stream",
     "text": [
      "/Users/andreassavva/miniforge3/envs/crf/lib/python3.10/site-packages/sklearn/metrics/_classification.py:1272: UndefinedMetricWarning: Precision and F-score are ill-defined and being set to 0.0 in labels with no predicted samples. Use `zero_division` parameter to control this behavior.\n",
      "  _warn_prf(average, modifier, msg_start, len(result))\n",
      "/Users/andreassavva/miniforge3/envs/crf/lib/python3.10/site-packages/sklearn/base.py:193: FutureWarning: From version 0.24, get_params will raise an AttributeError if a parameter cannot be retrieved as an instance attribute. Previously it would return None.\n",
      "  warnings.warn('From version 0.24, get_params will raise an '\n",
      "/Users/andreassavva/miniforge3/envs/crf/lib/python3.10/site-packages/sklearn/base.py:193: FutureWarning: From version 0.24, get_params will raise an AttributeError if a parameter cannot be retrieved as an instance attribute. Previously it would return None.\n",
      "  warnings.warn('From version 0.24, get_params will raise an '\n",
      "/Users/andreassavva/miniforge3/envs/crf/lib/python3.10/site-packages/joblib/externals/loky/process_executor.py:700: UserWarning: A worker stopped while some jobs were given to the executor. This can be caused by a too short worker timeout or by a memory leak.\n",
      "  warnings.warn(\n",
      "/Users/andreassavva/miniforge3/envs/crf/lib/python3.10/site-packages/sklearn/base.py:193: FutureWarning: From version 0.24, get_params will raise an AttributeError if a parameter cannot be retrieved as an instance attribute. Previously it would return None.\n",
      "  warnings.warn('From version 0.24, get_params will raise an '\n"
     ]
    },
    {
     "name": "stdout",
     "output_type": "stream",
     "text": [
      "best params: {'c1': 0.42679602002848455, 'c2': 0.007933879076308518}\n",
      "best CV score: 0.18369063409328557\n",
      "model size: 0.74M\n"
     ]
    },
    {
     "name": "stderr",
     "output_type": "stream",
     "text": [
      "/Users/andreassavva/miniforge3/envs/crf/lib/python3.10/site-packages/sklearn/metrics/_classification.py:1272: UndefinedMetricWarning: Precision and F-score are ill-defined and being set to 0.0 in labels with no predicted samples. Use `zero_division` parameter to control this behavior.\n",
      "  _warn_prf(average, modifier, msg_start, len(result))\n",
      "/Users/andreassavva/miniforge3/envs/crf/lib/python3.10/site-packages/sklearn/base.py:193: FutureWarning: From version 0.24, get_params will raise an AttributeError if a parameter cannot be retrieved as an instance attribute. Previously it would return None.\n",
      "  warnings.warn('From version 0.24, get_params will raise an '\n",
      "/Users/andreassavva/miniforge3/envs/crf/lib/python3.10/site-packages/sklearn/base.py:193: FutureWarning: From version 0.24, get_params will raise an AttributeError if a parameter cannot be retrieved as an instance attribute. Previously it would return None.\n",
      "  warnings.warn('From version 0.24, get_params will raise an '\n",
      "/Users/andreassavva/miniforge3/envs/crf/lib/python3.10/site-packages/sklearn/base.py:193: FutureWarning: From version 0.24, get_params will raise an AttributeError if a parameter cannot be retrieved as an instance attribute. Previously it would return None.\n",
      "  warnings.warn('From version 0.24, get_params will raise an '\n",
      "/Users/andreassavva/miniforge3/envs/crf/lib/python3.10/site-packages/sklearn/base.py:193: FutureWarning: From version 0.24, get_params will raise an AttributeError if a parameter cannot be retrieved as an instance attribute. Previously it would return None.\n",
      "  warnings.warn('From version 0.24, get_params will raise an '\n",
      "/Users/andreassavva/miniforge3/envs/crf/lib/python3.10/site-packages/sklearn/base.py:193: FutureWarning: From version 0.24, get_params will raise an AttributeError if a parameter cannot be retrieved as an instance attribute. Previously it would return None.\n",
      "  warnings.warn('From version 0.24, get_params will raise an '\n",
      "/Users/andreassavva/miniforge3/envs/crf/lib/python3.10/site-packages/sklearn/base.py:193: FutureWarning: From version 0.24, get_params will raise an AttributeError if a parameter cannot be retrieved as an instance attribute. Previously it would return None.\n",
      "  warnings.warn('From version 0.24, get_params will raise an '\n",
      "/Users/andreassavva/miniforge3/envs/crf/lib/python3.10/site-packages/sklearn/base.py:193: FutureWarning: From version 0.24, get_params will raise an AttributeError if a parameter cannot be retrieved as an instance attribute. Previously it would return None.\n",
      "  warnings.warn('From version 0.24, get_params will raise an '\n",
      "/Users/andreassavva/miniforge3/envs/crf/lib/python3.10/site-packages/joblib/externals/loky/process_executor.py:700: UserWarning: A worker stopped while some jobs were given to the executor. This can be caused by a too short worker timeout or by a memory leak.\n",
      "  warnings.warn(\n",
      "/Users/andreassavva/miniforge3/envs/crf/lib/python3.10/site-packages/sklearn/base.py:193: FutureWarning: From version 0.24, get_params will raise an AttributeError if a parameter cannot be retrieved as an instance attribute. Previously it would return None.\n",
      "  warnings.warn('From version 0.24, get_params will raise an '\n",
      "/Users/andreassavva/miniforge3/envs/crf/lib/python3.10/site-packages/sklearn/base.py:193: FutureWarning: From version 0.24, get_params will raise an AttributeError if a parameter cannot be retrieved as an instance attribute. Previously it would return None.\n",
      "  warnings.warn('From version 0.24, get_params will raise an '\n",
      "/Users/andreassavva/miniforge3/envs/crf/lib/python3.10/site-packages/sklearn/base.py:193: FutureWarning: From version 0.24, get_params will raise an AttributeError if a parameter cannot be retrieved as an instance attribute. Previously it would return None.\n",
      "  warnings.warn('From version 0.24, get_params will raise an '\n",
      "/Users/andreassavva/miniforge3/envs/crf/lib/python3.10/site-packages/sklearn/base.py:193: FutureWarning: From version 0.24, get_params will raise an AttributeError if a parameter cannot be retrieved as an instance attribute. Previously it would return None.\n",
      "  warnings.warn('From version 0.24, get_params will raise an '\n"
     ]
    },
    {
     "name": "stdout",
     "output_type": "stream",
     "text": [
      "best params: {'c1': 0.338216973284279, 'c2': 0.0027419547244570343}\n",
      "best CV score: 0.17996364460883024\n",
      "model size: 0.80M\n"
     ]
    },
    {
     "name": "stderr",
     "output_type": "stream",
     "text": [
      "/Users/andreassavva/miniforge3/envs/crf/lib/python3.10/site-packages/sklearn/metrics/_classification.py:1272: UndefinedMetricWarning: Precision and F-score are ill-defined and being set to 0.0 in labels with no predicted samples. Use `zero_division` parameter to control this behavior.\n",
      "  _warn_prf(average, modifier, msg_start, len(result))\n",
      "/Users/andreassavva/miniforge3/envs/crf/lib/python3.10/site-packages/sklearn/base.py:193: FutureWarning: From version 0.24, get_params will raise an AttributeError if a parameter cannot be retrieved as an instance attribute. Previously it would return None.\n",
      "  warnings.warn('From version 0.24, get_params will raise an '\n",
      "/Users/andreassavva/miniforge3/envs/crf/lib/python3.10/site-packages/joblib/externals/loky/process_executor.py:700: UserWarning: A worker stopped while some jobs were given to the executor. This can be caused by a too short worker timeout or by a memory leak.\n",
      "  warnings.warn(\n",
      "/Users/andreassavva/miniforge3/envs/crf/lib/python3.10/site-packages/sklearn/base.py:193: FutureWarning: From version 0.24, get_params will raise an AttributeError if a parameter cannot be retrieved as an instance attribute. Previously it would return None.\n",
      "  warnings.warn('From version 0.24, get_params will raise an '\n",
      "/Users/andreassavva/miniforge3/envs/crf/lib/python3.10/site-packages/sklearn/base.py:193: FutureWarning: From version 0.24, get_params will raise an AttributeError if a parameter cannot be retrieved as an instance attribute. Previously it would return None.\n",
      "  warnings.warn('From version 0.24, get_params will raise an '\n",
      "/Users/andreassavva/miniforge3/envs/crf/lib/python3.10/site-packages/sklearn/base.py:193: FutureWarning: From version 0.24, get_params will raise an AttributeError if a parameter cannot be retrieved as an instance attribute. Previously it would return None.\n",
      "  warnings.warn('From version 0.24, get_params will raise an '\n",
      "/Users/andreassavva/miniforge3/envs/crf/lib/python3.10/site-packages/sklearn/base.py:193: FutureWarning: From version 0.24, get_params will raise an AttributeError if a parameter cannot be retrieved as an instance attribute. Previously it would return None.\n",
      "  warnings.warn('From version 0.24, get_params will raise an '\n",
      "/Users/andreassavva/miniforge3/envs/crf/lib/python3.10/site-packages/sklearn/base.py:193: FutureWarning: From version 0.24, get_params will raise an AttributeError if a parameter cannot be retrieved as an instance attribute. Previously it would return None.\n",
      "  warnings.warn('From version 0.24, get_params will raise an '\n",
      "/Users/andreassavva/miniforge3/envs/crf/lib/python3.10/site-packages/sklearn/base.py:193: FutureWarning: From version 0.24, get_params will raise an AttributeError if a parameter cannot be retrieved as an instance attribute. Previously it would return None.\n",
      "  warnings.warn('From version 0.24, get_params will raise an '\n",
      "/Users/andreassavva/miniforge3/envs/crf/lib/python3.10/site-packages/sklearn/base.py:193: FutureWarning: From version 0.24, get_params will raise an AttributeError if a parameter cannot be retrieved as an instance attribute. Previously it would return None.\n",
      "  warnings.warn('From version 0.24, get_params will raise an '\n",
      "/Users/andreassavva/miniforge3/envs/crf/lib/python3.10/site-packages/sklearn/base.py:193: FutureWarning: From version 0.24, get_params will raise an AttributeError if a parameter cannot be retrieved as an instance attribute. Previously it would return None.\n",
      "  warnings.warn('From version 0.24, get_params will raise an '\n",
      "/Users/andreassavva/miniforge3/envs/crf/lib/python3.10/site-packages/sklearn/base.py:193: FutureWarning: From version 0.24, get_params will raise an AttributeError if a parameter cannot be retrieved as an instance attribute. Previously it would return None.\n",
      "  warnings.warn('From version 0.24, get_params will raise an '\n"
     ]
    },
    {
     "name": "stdout",
     "output_type": "stream",
     "text": [
      "best params: {'c1': 0.44495286986762533, 'c2': 0.06015838309715876}\n",
      "best CV score: 0.18068208176721123\n",
      "model size: 1.03M\n"
     ]
    },
    {
     "name": "stderr",
     "output_type": "stream",
     "text": [
      "/Users/andreassavva/miniforge3/envs/crf/lib/python3.10/site-packages/sklearn/base.py:193: FutureWarning: From version 0.24, get_params will raise an AttributeError if a parameter cannot be retrieved as an instance attribute. Previously it would return None.\n",
      "  warnings.warn('From version 0.24, get_params will raise an '\n",
      "/Users/andreassavva/miniforge3/envs/crf/lib/python3.10/site-packages/sklearn/base.py:193: FutureWarning: From version 0.24, get_params will raise an AttributeError if a parameter cannot be retrieved as an instance attribute. Previously it would return None.\n",
      "  warnings.warn('From version 0.24, get_params will raise an '\n"
     ]
    },
    {
     "name": "stdout",
     "output_type": "stream",
     "text": [
      "best params: {'c1': 0.5886282974499543, 'c2': 0.01895447350848429}\n",
      "best CV score: 0.1807484386328053\n",
      "model size: 0.67M\n"
     ]
    },
    {
     "name": "stderr",
     "output_type": "stream",
     "text": [
      "/Users/andreassavva/miniforge3/envs/crf/lib/python3.10/site-packages/sklearn/metrics/_classification.py:1272: UndefinedMetricWarning: Precision and F-score are ill-defined and being set to 0.0 in labels with no predicted samples. Use `zero_division` parameter to control this behavior.\n",
      "  _warn_prf(average, modifier, msg_start, len(result))\n",
      "/Users/andreassavva/miniforge3/envs/crf/lib/python3.10/site-packages/sklearn/base.py:193: FutureWarning: From version 0.24, get_params will raise an AttributeError if a parameter cannot be retrieved as an instance attribute. Previously it would return None.\n",
      "  warnings.warn('From version 0.24, get_params will raise an '\n"
     ]
    },
    {
     "name": "stdout",
     "output_type": "stream",
     "text": [
      "best params: {'c1': 0.27166968530912255, 'c2': 0.057793985485471114}\n",
      "best CV score: 0.20400492781078583\n",
      "model size: 1.01M\n"
     ]
    }
   ],
   "source": [
    "# all extended features\n",
    "all_features = ['is_mention', 'is_money', 'is_url', 'is_hashtag', 'is_punct', 'is_repeated_punct', 'is_first_capital', 'is_stopword', 'has_emoji', 'lemma', 'w2v', 'glove']\n",
    "\n",
    "# test features individually\n",
    "for feat in all_features:\n",
    "        extra = {\n",
    "                \"context\": [0],\n",
    "                \"features\": [feat]\n",
    "                }\n",
    "        \n",
    "        run_test(extra, labels, fname=f'0-{feat}')"
   ]
  },
  {
   "cell_type": "code",
   "execution_count": 54,
   "metadata": {},
   "outputs": [
    {
     "name": "stderr",
     "output_type": "stream",
     "text": [
      "/Users/andreassavva/miniforge3/envs/crf/lib/python3.10/site-packages/sklearn/base.py:193: FutureWarning: From version 0.24, get_params will raise an AttributeError if a parameter cannot be retrieved as an instance attribute. Previously it would return None.\n",
      "  warnings.warn('From version 0.24, get_params will raise an '\n"
     ]
    },
    {
     "name": "stdout",
     "output_type": "stream",
     "text": [
      "best params: {'c1': 0.338216973284279, 'c2': 0.0027419547244570343}\n",
      "best CV score: 0.19672434353563523\n",
      "model size: 0.78M\n"
     ]
    }
   ],
   "source": [
    "extra = {\n",
    "        \"context\": [0],\n",
    "        \"features\": ['is_mention', 'is_money', 'is_url', 'is_hashtag', 'is_punct', 'is_repeated_punct', 'is_first_capital', 'is_stopword']\n",
    "        }\n",
    "\n",
    "run_test(extra, labels, fname='0-is_regex')"
   ]
  },
  {
   "cell_type": "code",
   "execution_count": 55,
   "metadata": {},
   "outputs": [
    {
     "name": "stderr",
     "output_type": "stream",
     "text": [
      "/Users/andreassavva/miniforge3/envs/crf/lib/python3.10/site-packages/sklearn/base.py:193: FutureWarning: From version 0.24, get_params will raise an AttributeError if a parameter cannot be retrieved as an instance attribute. Previously it would return None.\n",
      "  warnings.warn('From version 0.24, get_params will raise an '\n"
     ]
    },
    {
     "name": "stdout",
     "output_type": "stream",
     "text": [
      "best params: {'c1': 0.338216973284279, 'c2': 0.0027419547244570343}\n",
      "best CV score: 0.2045543114447928\n",
      "model size: 0.78M\n"
     ]
    }
   ],
   "source": [
    "extra = {\n",
    "        \"context\": [0],\n",
    "        \"features\": ['is_mention', 'is_money', 'is_url', 'is_hashtag', 'is_punct',  'is_repeated_punct', 'is_first_capital', 'is_stopword', 'w2v']\n",
    "        }\n",
    "\n",
    "run_test(extra, labels, fname='0-is_regex_w2v')"
   ]
  },
  {
   "cell_type": "code",
   "execution_count": 56,
   "metadata": {},
   "outputs": [
    {
     "name": "stderr",
     "output_type": "stream",
     "text": [
      "/Users/andreassavva/miniforge3/envs/crf/lib/python3.10/site-packages/sklearn/metrics/_classification.py:1272: UndefinedMetricWarning: Precision and F-score are ill-defined and being set to 0.0 in labels with no predicted samples. Use `zero_division` parameter to control this behavior.\n",
      "  _warn_prf(average, modifier, msg_start, len(result))\n",
      "/Users/andreassavva/miniforge3/envs/crf/lib/python3.10/site-packages/sklearn/base.py:193: FutureWarning: From version 0.24, get_params will raise an AttributeError if a parameter cannot be retrieved as an instance attribute. Previously it would return None.\n",
      "  warnings.warn('From version 0.24, get_params will raise an '\n"
     ]
    },
    {
     "name": "stdout",
     "output_type": "stream",
     "text": [
      "best params: {'c1': 0.27166968530912255, 'c2': 0.057793985485471114}\n",
      "best CV score: 0.19147617477254542\n",
      "model size: 1.20M\n"
     ]
    }
   ],
   "source": [
    "extra = {\n",
    "        \"context\": [0],\n",
    "        \"features\": ['is_mention', 'is_money', 'is_url', 'is_hashtag', 'is_punct',  'is_repeated_punct', 'is_first_capital', 'is_stopword', 'lemma']\n",
    "        }\n",
    "\n",
    "run_test(extra, labels, fname='0-is_regex_lemma')"
   ]
  },
  {
   "cell_type": "code",
   "execution_count": 57,
   "metadata": {},
   "outputs": [
    {
     "name": "stderr",
     "output_type": "stream",
     "text": [
      "/Users/andreassavva/miniforge3/envs/crf/lib/python3.10/site-packages/sklearn/base.py:193: FutureWarning: From version 0.24, get_params will raise an AttributeError if a parameter cannot be retrieved as an instance attribute. Previously it would return None.\n",
      "  warnings.warn('From version 0.24, get_params will raise an '\n",
      "/Users/andreassavva/miniforge3/envs/crf/lib/python3.10/site-packages/sklearn/base.py:193: FutureWarning: From version 0.24, get_params will raise an AttributeError if a parameter cannot be retrieved as an instance attribute. Previously it would return None.\n",
      "  warnings.warn('From version 0.24, get_params will raise an '\n",
      "/Users/andreassavva/miniforge3/envs/crf/lib/python3.10/site-packages/joblib/externals/loky/process_executor.py:700: UserWarning: A worker stopped while some jobs were given to the executor. This can be caused by a too short worker timeout or by a memory leak.\n",
      "  warnings.warn(\n",
      "/Users/andreassavva/miniforge3/envs/crf/lib/python3.10/site-packages/sklearn/base.py:193: FutureWarning: From version 0.24, get_params will raise an AttributeError if a parameter cannot be retrieved as an instance attribute. Previously it would return None.\n",
      "  warnings.warn('From version 0.24, get_params will raise an '\n",
      "/Users/andreassavva/miniforge3/envs/crf/lib/python3.10/site-packages/sklearn/base.py:193: FutureWarning: From version 0.24, get_params will raise an AttributeError if a parameter cannot be retrieved as an instance attribute. Previously it would return None.\n",
      "  warnings.warn('From version 0.24, get_params will raise an '\n",
      "/Users/andreassavva/miniforge3/envs/crf/lib/python3.10/site-packages/sklearn/base.py:193: FutureWarning: From version 0.24, get_params will raise an AttributeError if a parameter cannot be retrieved as an instance attribute. Previously it would return None.\n",
      "  warnings.warn('From version 0.24, get_params will raise an '\n"
     ]
    },
    {
     "name": "stdout",
     "output_type": "stream",
     "text": [
      "best params: {'c1': 0.2622398782739819, 'c2': 0.01352663045303994}\n",
      "best CV score: 0.2251858760682679\n",
      "model size: 0.87M\n"
     ]
    }
   ],
   "source": [
    "extra = {\n",
    "        \"context\": [0],\n",
    "        \"features\": ['is_mention', 'is_money', 'is_url', 'is_hashtag', 'is_punct',  'is_repeated_punct', 'is_first_capital', 'is_stopword', 'glove']\n",
    "        }\n",
    "\n",
    "run_test(extra, labels, fname='0-is_regex_glove')"
   ]
  },
  {
   "cell_type": "code",
   "execution_count": 58,
   "metadata": {},
   "outputs": [
    {
     "name": "stderr",
     "output_type": "stream",
     "text": [
      "/Users/andreassavva/miniforge3/envs/crf/lib/python3.10/site-packages/sklearn/base.py:193: FutureWarning: From version 0.24, get_params will raise an AttributeError if a parameter cannot be retrieved as an instance attribute. Previously it would return None.\n",
      "  warnings.warn('From version 0.24, get_params will raise an '\n",
      "/Users/andreassavva/miniforge3/envs/crf/lib/python3.10/site-packages/sklearn/base.py:193: FutureWarning: From version 0.24, get_params will raise an AttributeError if a parameter cannot be retrieved as an instance attribute. Previously it would return None.\n",
      "  warnings.warn('From version 0.24, get_params will raise an '\n",
      "/Users/andreassavva/miniforge3/envs/crf/lib/python3.10/site-packages/sklearn/base.py:193: FutureWarning: From version 0.24, get_params will raise an AttributeError if a parameter cannot be retrieved as an instance attribute. Previously it would return None.\n",
      "  warnings.warn('From version 0.24, get_params will raise an '\n",
      "/Users/andreassavva/miniforge3/envs/crf/lib/python3.10/site-packages/sklearn/base.py:193: FutureWarning: From version 0.24, get_params will raise an AttributeError if a parameter cannot be retrieved as an instance attribute. Previously it would return None.\n",
      "  warnings.warn('From version 0.24, get_params will raise an '\n",
      "/Users/andreassavva/miniforge3/envs/crf/lib/python3.10/site-packages/sklearn/base.py:193: FutureWarning: From version 0.24, get_params will raise an AttributeError if a parameter cannot be retrieved as an instance attribute. Previously it would return None.\n",
      "  warnings.warn('From version 0.24, get_params will raise an '\n",
      "/Users/andreassavva/miniforge3/envs/crf/lib/python3.10/site-packages/sklearn/base.py:193: FutureWarning: From version 0.24, get_params will raise an AttributeError if a parameter cannot be retrieved as an instance attribute. Previously it would return None.\n",
      "  warnings.warn('From version 0.24, get_params will raise an '\n",
      "/Users/andreassavva/miniforge3/envs/crf/lib/python3.10/site-packages/sklearn/base.py:193: FutureWarning: From version 0.24, get_params will raise an AttributeError if a parameter cannot be retrieved as an instance attribute. Previously it would return None.\n",
      "  warnings.warn('From version 0.24, get_params will raise an '\n",
      "/Users/andreassavva/miniforge3/envs/crf/lib/python3.10/site-packages/sklearn/base.py:193: FutureWarning: From version 0.24, get_params will raise an AttributeError if a parameter cannot be retrieved as an instance attribute. Previously it would return None.\n",
      "  warnings.warn('From version 0.24, get_params will raise an '\n",
      "/Users/andreassavva/miniforge3/envs/crf/lib/python3.10/site-packages/sklearn/base.py:193: FutureWarning: From version 0.24, get_params will raise an AttributeError if a parameter cannot be retrieved as an instance attribute. Previously it would return None.\n",
      "  warnings.warn('From version 0.24, get_params will raise an '\n",
      "/Users/andreassavva/miniforge3/envs/crf/lib/python3.10/site-packages/sklearn/base.py:193: FutureWarning: From version 0.24, get_params will raise an AttributeError if a parameter cannot be retrieved as an instance attribute. Previously it would return None.\n",
      "  warnings.warn('From version 0.24, get_params will raise an '\n",
      "/Users/andreassavva/miniforge3/envs/crf/lib/python3.10/site-packages/sklearn/base.py:193: FutureWarning: From version 0.24, get_params will raise an AttributeError if a parameter cannot be retrieved as an instance attribute. Previously it would return None.\n",
      "  warnings.warn('From version 0.24, get_params will raise an '\n"
     ]
    },
    {
     "name": "stdout",
     "output_type": "stream",
     "text": [
      "best params: {'c1': 0.07935479759733695, 'c2': 0.004844193582686673}\n",
      "best CV score: 0.19967063495601692\n",
      "model size: 1.08M\n"
     ]
    },
    {
     "name": "stderr",
     "output_type": "stream",
     "text": [
      "/Users/andreassavva/miniforge3/envs/crf/lib/python3.10/site-packages/sklearn/base.py:193: FutureWarning: From version 0.24, get_params will raise an AttributeError if a parameter cannot be retrieved as an instance attribute. Previously it would return None.\n",
      "  warnings.warn('From version 0.24, get_params will raise an '\n"
     ]
    },
    {
     "name": "stdout",
     "output_type": "stream",
     "text": [
      "best params: {'c1': 0.18801930645448509, 'c2': 0.05893517492215625}\n",
      "best CV score: 0.19809596075586017\n",
      "model size: 1.14M\n"
     ]
    },
    {
     "name": "stderr",
     "output_type": "stream",
     "text": [
      "/Users/andreassavva/miniforge3/envs/crf/lib/python3.10/site-packages/sklearn/metrics/_classification.py:1272: UndefinedMetricWarning: Precision and F-score are ill-defined and being set to 0.0 in labels with no predicted samples. Use `zero_division` parameter to control this behavior.\n",
      "  _warn_prf(average, modifier, msg_start, len(result))\n",
      "/Users/andreassavva/miniforge3/envs/crf/lib/python3.10/site-packages/sklearn/base.py:193: FutureWarning: From version 0.24, get_params will raise an AttributeError if a parameter cannot be retrieved as an instance attribute. Previously it would return None.\n",
      "  warnings.warn('From version 0.24, get_params will raise an '\n",
      "/Users/andreassavva/miniforge3/envs/crf/lib/python3.10/site-packages/joblib/externals/loky/process_executor.py:700: UserWarning: A worker stopped while some jobs were given to the executor. This can be caused by a too short worker timeout or by a memory leak.\n",
      "  warnings.warn(\n",
      "/Users/andreassavva/miniforge3/envs/crf/lib/python3.10/site-packages/sklearn/base.py:193: FutureWarning: From version 0.24, get_params will raise an AttributeError if a parameter cannot be retrieved as an instance attribute. Previously it would return None.\n",
      "  warnings.warn('From version 0.24, get_params will raise an '\n",
      "/Users/andreassavva/miniforge3/envs/crf/lib/python3.10/site-packages/sklearn/base.py:193: FutureWarning: From version 0.24, get_params will raise an AttributeError if a parameter cannot be retrieved as an instance attribute. Previously it would return None.\n",
      "  warnings.warn('From version 0.24, get_params will raise an '\n",
      "/Users/andreassavva/miniforge3/envs/crf/lib/python3.10/site-packages/sklearn/base.py:193: FutureWarning: From version 0.24, get_params will raise an AttributeError if a parameter cannot be retrieved as an instance attribute. Previously it would return None.\n",
      "  warnings.warn('From version 0.24, get_params will raise an '\n"
     ]
    },
    {
     "name": "stdout",
     "output_type": "stream",
     "text": [
      "best params: {'c1': 0.2622398782739819, 'c2': 0.01352663045303994}\n",
      "best CV score: 0.1995374087309951\n",
      "model size: 1.23M\n"
     ]
    },
    {
     "name": "stderr",
     "output_type": "stream",
     "text": [
      "/Users/andreassavva/miniforge3/envs/crf/lib/python3.10/site-packages/sklearn/base.py:193: FutureWarning: From version 0.24, get_params will raise an AttributeError if a parameter cannot be retrieved as an instance attribute. Previously it would return None.\n",
      "  warnings.warn('From version 0.24, get_params will raise an '\n",
      "/Users/andreassavva/miniforge3/envs/crf/lib/python3.10/site-packages/sklearn/base.py:193: FutureWarning: From version 0.24, get_params will raise an AttributeError if a parameter cannot be retrieved as an instance attribute. Previously it would return None.\n",
      "  warnings.warn('From version 0.24, get_params will raise an '\n",
      "/Users/andreassavva/miniforge3/envs/crf/lib/python3.10/site-packages/sklearn/base.py:193: FutureWarning: From version 0.24, get_params will raise an AttributeError if a parameter cannot be retrieved as an instance attribute. Previously it would return None.\n",
      "  warnings.warn('From version 0.24, get_params will raise an '\n",
      "/Users/andreassavva/miniforge3/envs/crf/lib/python3.10/site-packages/joblib/externals/loky/process_executor.py:700: UserWarning: A worker stopped while some jobs were given to the executor. This can be caused by a too short worker timeout or by a memory leak.\n",
      "  warnings.warn(\n",
      "/Users/andreassavva/miniforge3/envs/crf/lib/python3.10/site-packages/sklearn/base.py:193: FutureWarning: From version 0.24, get_params will raise an AttributeError if a parameter cannot be retrieved as an instance attribute. Previously it would return None.\n",
      "  warnings.warn('From version 0.24, get_params will raise an '\n",
      "/Users/andreassavva/miniforge3/envs/crf/lib/python3.10/site-packages/sklearn/base.py:193: FutureWarning: From version 0.24, get_params will raise an AttributeError if a parameter cannot be retrieved as an instance attribute. Previously it would return None.\n",
      "  warnings.warn('From version 0.24, get_params will raise an '\n"
     ]
    },
    {
     "name": "stdout",
     "output_type": "stream",
     "text": [
      "best params: {'c1': 0.16968094082387417, 'c2': 0.006964745469403186}\n",
      "best CV score: 0.2315624445996689\n",
      "model size: 0.92M\n"
     ]
    }
   ],
   "source": [
    "extra = {\n",
    "        \"context\": [1],\n",
    "        \"features\": ['is_mention', 'is_money', 'is_url', 'is_hashtag', 'is_punct', 'is_repeated_punct', 'is_first_capital', 'is_stopword']\n",
    "        }\n",
    "\n",
    "run_test(extra, labels, fname='1-is_regex')\n",
    "\n",
    "extra = {\n",
    "        \"context\": [1],\n",
    "        \"features\": ['is_mention', 'is_money', 'is_url', 'is_hashtag', 'is_punct',  'is_repeated_punct', 'is_first_capital', 'is_stopword', 'w2v']\n",
    "        }\n",
    "\n",
    "run_test(extra, labels, fname='1-is_regex_w2v')\n",
    "\n",
    "extra = {\n",
    "        \"context\": [1],\n",
    "        \"features\": ['is_mention', 'is_money', 'is_url', 'is_hashtag', 'is_punct',  'is_repeated_punct', 'is_first_capital', 'is_stopword', 'lemma']\n",
    "        }\n",
    "\n",
    "run_test(extra, labels, fname='1-is_regex_lemma')\n",
    "\n",
    "extra = {\n",
    "        \"context\": [1],\n",
    "        \"features\": ['is_mention', 'is_money', 'is_url', 'is_hashtag', 'is_punct',  'is_repeated_punct', 'is_first_capital', 'is_stopword', 'glove']\n",
    "        }\n",
    "\n",
    "run_test(extra, labels, fname='1-is_regex_glove')"
   ]
  },
  {
   "cell_type": "code",
   "execution_count": 59,
   "metadata": {},
   "outputs": [
    {
     "name": "stderr",
     "output_type": "stream",
     "text": [
      "/var/folders/87/xwd3ppxs3plg7h09t7vb7cyh0000gn/T/ipykernel_18995/3262754414.py:9: DeprecationWarning: Call to deprecated `glove2word2vec` (KeyedVectors.load_word2vec_format(.., binary=False, no_header=True) loads GLoVE text vectors.).\n",
      "  _ = glove2word2vec(glove_file, tmp_file)\n",
      "/Users/andreassavva/miniforge3/envs/crf/lib/python3.10/site-packages/sklearn/base.py:193: FutureWarning: From version 0.24, get_params will raise an AttributeError if a parameter cannot be retrieved as an instance attribute. Previously it would return None.\n",
      "  warnings.warn('From version 0.24, get_params will raise an '\n",
      "/Users/andreassavva/miniforge3/envs/crf/lib/python3.10/site-packages/sklearn/base.py:193: FutureWarning: From version 0.24, get_params will raise an AttributeError if a parameter cannot be retrieved as an instance attribute. Previously it would return None.\n",
      "  warnings.warn('From version 0.24, get_params will raise an '\n",
      "/Users/andreassavva/miniforge3/envs/crf/lib/python3.10/site-packages/sklearn/base.py:193: FutureWarning: From version 0.24, get_params will raise an AttributeError if a parameter cannot be retrieved as an instance attribute. Previously it would return None.\n",
      "  warnings.warn('From version 0.24, get_params will raise an '\n",
      "/Users/andreassavva/miniforge3/envs/crf/lib/python3.10/site-packages/sklearn/base.py:193: FutureWarning: From version 0.24, get_params will raise an AttributeError if a parameter cannot be retrieved as an instance attribute. Previously it would return None.\n",
      "  warnings.warn('From version 0.24, get_params will raise an '\n",
      "/Users/andreassavva/miniforge3/envs/crf/lib/python3.10/site-packages/sklearn/base.py:193: FutureWarning: From version 0.24, get_params will raise an AttributeError if a parameter cannot be retrieved as an instance attribute. Previously it would return None.\n",
      "  warnings.warn('From version 0.24, get_params will raise an '\n",
      "/Users/andreassavva/miniforge3/envs/crf/lib/python3.10/site-packages/sklearn/base.py:193: FutureWarning: From version 0.24, get_params will raise an AttributeError if a parameter cannot be retrieved as an instance attribute. Previously it would return None.\n",
      "  warnings.warn('From version 0.24, get_params will raise an '\n",
      "/Users/andreassavva/miniforge3/envs/crf/lib/python3.10/site-packages/sklearn/base.py:193: FutureWarning: From version 0.24, get_params will raise an AttributeError if a parameter cannot be retrieved as an instance attribute. Previously it would return None.\n",
      "  warnings.warn('From version 0.24, get_params will raise an '\n",
      "/Users/andreassavva/miniforge3/envs/crf/lib/python3.10/site-packages/sklearn/base.py:193: FutureWarning: From version 0.24, get_params will raise an AttributeError if a parameter cannot be retrieved as an instance attribute. Previously it would return None.\n",
      "  warnings.warn('From version 0.24, get_params will raise an '\n",
      "/Users/andreassavva/miniforge3/envs/crf/lib/python3.10/site-packages/sklearn/base.py:193: FutureWarning: From version 0.24, get_params will raise an AttributeError if a parameter cannot be retrieved as an instance attribute. Previously it would return None.\n",
      "  warnings.warn('From version 0.24, get_params will raise an '\n",
      "/Users/andreassavva/miniforge3/envs/crf/lib/python3.10/site-packages/sklearn/base.py:193: FutureWarning: From version 0.24, get_params will raise an AttributeError if a parameter cannot be retrieved as an instance attribute. Previously it would return None.\n",
      "  warnings.warn('From version 0.24, get_params will raise an '\n",
      "/Users/andreassavva/miniforge3/envs/crf/lib/python3.10/site-packages/sklearn/base.py:193: FutureWarning: From version 0.24, get_params will raise an AttributeError if a parameter cannot be retrieved as an instance attribute. Previously it would return None.\n",
      "  warnings.warn('From version 0.24, get_params will raise an '\n"
     ]
    },
    {
     "name": "stdout",
     "output_type": "stream",
     "text": [
      "best params: {'c1': 0.2622398782739819, 'c2': 0.01352663045303994}\n",
      "best CV score: 0.1978379783387171\n",
      "model size: 0.87M\n"
     ]
    }
   ],
   "source": [
    "vector_size = 25\n",
    "\n",
    "model = Word2Vec(vector_size=vector_size)\n",
    "model.build_vocab(sents_only)\n",
    "model.train(sents_only, total_examples=model.corpus_count, epochs=model.epochs)\n",
    "\n",
    "glove_file = 'models/glove.twitter.27B.25d.txt'\n",
    "tmp_file = get_tmpfile(\"test_word2vec.txt\")\n",
    "_ = glove2word2vec(glove_file, tmp_file)\n",
    "glove_vectors = KeyedVectors.load_word2vec_format(tmp_file)\n",
    "\n",
    "model.build_vocab([list(glove_vectors.index_to_key)], update=True)\n",
    "model.wv.vectors_lockf = np.ones(len(model.wv))\n",
    "model.wv.intersect_word2vec_format(tmp_file, binary=False)\n",
    "\n",
    "total_examples = model.corpus_count\n",
    "model.train(sents_only, total_examples=total_examples, epochs=model.epochs)\n",
    "\n",
    "extra = {\n",
    "        \"context\": [0],\n",
    "        \"features\": ['is_mention', 'is_money', 'is_url', 'is_hashtag', 'is_punct',  'is_repeated_punct', 'is_first_capital', 'is_stopword', 'w2v']\n",
    "        }\n",
    "\n",
    "run_test(extra, labels, fname='0-is_regex_w2v_finetuned')"
   ]
  },
  {
   "cell_type": "code",
   "execution_count": 60,
   "metadata": {},
   "outputs": [
    {
     "name": "stderr",
     "output_type": "stream",
     "text": [
      "/Users/andreassavva/miniforge3/envs/crf/lib/python3.10/site-packages/sklearn/metrics/_classification.py:1272: UndefinedMetricWarning: Precision and F-score are ill-defined and being set to 0.0 in labels with no predicted samples. Use `zero_division` parameter to control this behavior.\n",
      "  _warn_prf(average, modifier, msg_start, len(result))\n",
      "/Users/andreassavva/miniforge3/envs/crf/lib/python3.10/site-packages/sklearn/base.py:193: FutureWarning: From version 0.24, get_params will raise an AttributeError if a parameter cannot be retrieved as an instance attribute. Previously it would return None.\n",
      "  warnings.warn('From version 0.24, get_params will raise an '\n",
      "/Users/andreassavva/miniforge3/envs/crf/lib/python3.10/site-packages/sklearn/base.py:193: FutureWarning: From version 0.24, get_params will raise an AttributeError if a parameter cannot be retrieved as an instance attribute. Previously it would return None.\n",
      "  warnings.warn('From version 0.24, get_params will raise an '\n",
      "/Users/andreassavva/miniforge3/envs/crf/lib/python3.10/site-packages/sklearn/base.py:193: FutureWarning: From version 0.24, get_params will raise an AttributeError if a parameter cannot be retrieved as an instance attribute. Previously it would return None.\n",
      "  warnings.warn('From version 0.24, get_params will raise an '\n",
      "/Users/andreassavva/miniforge3/envs/crf/lib/python3.10/site-packages/sklearn/base.py:193: FutureWarning: From version 0.24, get_params will raise an AttributeError if a parameter cannot be retrieved as an instance attribute. Previously it would return None.\n",
      "  warnings.warn('From version 0.24, get_params will raise an '\n",
      "/Users/andreassavva/miniforge3/envs/crf/lib/python3.10/site-packages/sklearn/base.py:193: FutureWarning: From version 0.24, get_params will raise an AttributeError if a parameter cannot be retrieved as an instance attribute. Previously it would return None.\n",
      "  warnings.warn('From version 0.24, get_params will raise an '\n",
      "/Users/andreassavva/miniforge3/envs/crf/lib/python3.10/site-packages/sklearn/base.py:193: FutureWarning: From version 0.24, get_params will raise an AttributeError if a parameter cannot be retrieved as an instance attribute. Previously it would return None.\n",
      "  warnings.warn('From version 0.24, get_params will raise an '\n",
      "/Users/andreassavva/miniforge3/envs/crf/lib/python3.10/site-packages/sklearn/base.py:193: FutureWarning: From version 0.24, get_params will raise an AttributeError if a parameter cannot be retrieved as an instance attribute. Previously it would return None.\n",
      "  warnings.warn('From version 0.24, get_params will raise an '\n",
      "/Users/andreassavva/miniforge3/envs/crf/lib/python3.10/site-packages/sklearn/base.py:193: FutureWarning: From version 0.24, get_params will raise an AttributeError if a parameter cannot be retrieved as an instance attribute. Previously it would return None.\n",
      "  warnings.warn('From version 0.24, get_params will raise an '\n",
      "/Users/andreassavva/miniforge3/envs/crf/lib/python3.10/site-packages/sklearn/base.py:193: FutureWarning: From version 0.24, get_params will raise an AttributeError if a parameter cannot be retrieved as an instance attribute. Previously it would return None.\n",
      "  warnings.warn('From version 0.24, get_params will raise an '\n",
      "/Users/andreassavva/miniforge3/envs/crf/lib/python3.10/site-packages/sklearn/base.py:193: FutureWarning: From version 0.24, get_params will raise an AttributeError if a parameter cannot be retrieved as an instance attribute. Previously it would return None.\n",
      "  warnings.warn('From version 0.24, get_params will raise an '\n",
      "/Users/andreassavva/miniforge3/envs/crf/lib/python3.10/site-packages/sklearn/base.py:193: FutureWarning: From version 0.24, get_params will raise an AttributeError if a parameter cannot be retrieved as an instance attribute. Previously it would return None.\n",
      "  warnings.warn('From version 0.24, get_params will raise an '\n"
     ]
    },
    {
     "name": "stdout",
     "output_type": "stream",
     "text": [
      "best params: {'c1': 0.44495286986762533, 'c2': 0.06015838309715876}\n",
      "best CV score: 0.18602764494418067\n",
      "model size: 0.86M\n"
     ]
    }
   ],
   "source": [
    "extra = {\n",
    "        \"context\": [0],\n",
    "        \"features\": ['w2v']\n",
    "        }\n",
    "\n",
    "run_test(extra, labels, fname='0-is_w2v_finetuned')"
   ]
  },
  {
   "cell_type": "code",
   "execution_count": 62,
   "metadata": {},
   "outputs": [
    {
     "name": "stderr",
     "output_type": "stream",
     "text": [
      "/Users/andreassavva/miniforge3/envs/crf/lib/python3.10/site-packages/sklearn/metrics/_classification.py:1272: UndefinedMetricWarning: Precision and F-score are ill-defined and being set to 0.0 in labels with no predicted samples. Use `zero_division` parameter to control this behavior.\n",
      "  _warn_prf(average, modifier, msg_start, len(result))\n",
      "/Users/andreassavva/miniforge3/envs/crf/lib/python3.10/site-packages/sklearn/base.py:193: FutureWarning: From version 0.24, get_params will raise an AttributeError if a parameter cannot be retrieved as an instance attribute. Previously it would return None.\n",
      "  warnings.warn('From version 0.24, get_params will raise an '\n",
      "/Users/andreassavva/miniforge3/envs/crf/lib/python3.10/site-packages/sklearn/base.py:193: FutureWarning: From version 0.24, get_params will raise an AttributeError if a parameter cannot be retrieved as an instance attribute. Previously it would return None.\n",
      "  warnings.warn('From version 0.24, get_params will raise an '\n",
      "/Users/andreassavva/miniforge3/envs/crf/lib/python3.10/site-packages/sklearn/base.py:193: FutureWarning: From version 0.24, get_params will raise an AttributeError if a parameter cannot be retrieved as an instance attribute. Previously it would return None.\n",
      "  warnings.warn('From version 0.24, get_params will raise an '\n",
      "/Users/andreassavva/miniforge3/envs/crf/lib/python3.10/site-packages/sklearn/base.py:193: FutureWarning: From version 0.24, get_params will raise an AttributeError if a parameter cannot be retrieved as an instance attribute. Previously it would return None.\n",
      "  warnings.warn('From version 0.24, get_params will raise an '\n",
      "/Users/andreassavva/miniforge3/envs/crf/lib/python3.10/site-packages/sklearn/base.py:193: FutureWarning: From version 0.24, get_params will raise an AttributeError if a parameter cannot be retrieved as an instance attribute. Previously it would return None.\n",
      "  warnings.warn('From version 0.24, get_params will raise an '\n",
      "/Users/andreassavva/miniforge3/envs/crf/lib/python3.10/site-packages/sklearn/base.py:193: FutureWarning: From version 0.24, get_params will raise an AttributeError if a parameter cannot be retrieved as an instance attribute. Previously it would return None.\n",
      "  warnings.warn('From version 0.24, get_params will raise an '\n",
      "/Users/andreassavva/miniforge3/envs/crf/lib/python3.10/site-packages/sklearn/base.py:193: FutureWarning: From version 0.24, get_params will raise an AttributeError if a parameter cannot be retrieved as an instance attribute. Previously it would return None.\n",
      "  warnings.warn('From version 0.24, get_params will raise an '\n",
      "/Users/andreassavva/miniforge3/envs/crf/lib/python3.10/site-packages/sklearn/base.py:193: FutureWarning: From version 0.24, get_params will raise an AttributeError if a parameter cannot be retrieved as an instance attribute. Previously it would return None.\n",
      "  warnings.warn('From version 0.24, get_params will raise an '\n",
      "/Users/andreassavva/miniforge3/envs/crf/lib/python3.10/site-packages/sklearn/base.py:193: FutureWarning: From version 0.24, get_params will raise an AttributeError if a parameter cannot be retrieved as an instance attribute. Previously it would return None.\n",
      "  warnings.warn('From version 0.24, get_params will raise an '\n",
      "/Users/andreassavva/miniforge3/envs/crf/lib/python3.10/site-packages/sklearn/base.py:193: FutureWarning: From version 0.24, get_params will raise an AttributeError if a parameter cannot be retrieved as an instance attribute. Previously it would return None.\n",
      "  warnings.warn('From version 0.24, get_params will raise an '\n",
      "/Users/andreassavva/miniforge3/envs/crf/lib/python3.10/site-packages/sklearn/base.py:193: FutureWarning: From version 0.24, get_params will raise an AttributeError if a parameter cannot be retrieved as an instance attribute. Previously it would return None.\n",
      "  warnings.warn('From version 0.24, get_params will raise an '\n",
      "/Users/andreassavva/miniforge3/envs/crf/lib/python3.10/site-packages/joblib/externals/loky/process_executor.py:700: UserWarning: A worker stopped while some jobs were given to the executor. This can be caused by a too short worker timeout or by a memory leak.\n",
      "  warnings.warn(\n",
      "/Users/andreassavva/miniforge3/envs/crf/lib/python3.10/site-packages/sklearn/base.py:193: FutureWarning: From version 0.24, get_params will raise an AttributeError if a parameter cannot be retrieved as an instance attribute. Previously it would return None.\n",
      "  warnings.warn('From version 0.24, get_params will raise an '\n",
      "/Users/andreassavva/miniforge3/envs/crf/lib/python3.10/site-packages/sklearn/base.py:193: FutureWarning: From version 0.24, get_params will raise an AttributeError if a parameter cannot be retrieved as an instance attribute. Previously it would return None.\n",
      "  warnings.warn('From version 0.24, get_params will raise an '\n",
      "/Users/andreassavva/miniforge3/envs/crf/lib/python3.10/site-packages/sklearn/base.py:193: FutureWarning: From version 0.24, get_params will raise an AttributeError if a parameter cannot be retrieved as an instance attribute. Previously it would return None.\n",
      "  warnings.warn('From version 0.24, get_params will raise an '\n",
      "/Users/andreassavva/miniforge3/envs/crf/lib/python3.10/site-packages/sklearn/base.py:193: FutureWarning: From version 0.24, get_params will raise an AttributeError if a parameter cannot be retrieved as an instance attribute. Previously it would return None.\n",
      "  warnings.warn('From version 0.24, get_params will raise an '\n"
     ]
    },
    {
     "name": "stdout",
     "output_type": "stream",
     "text": [
      "best params: {'c1': 0.338216973284279, 'c2': 0.0027419547244570343}\n",
      "best CV score: 0.19626975768350075\n",
      "model size: 0.79M\n"
     ]
    }
   ],
   "source": [
    "extra = {\n",
    "        \"context\": [1],\n",
    "        \"features\": ['w2v']\n",
    "        }\n",
    "\n",
    "run_test(extra, labels, fname='1-w2v_finetuned')"
   ]
  },
  {
   "cell_type": "code",
   "execution_count": 63,
   "metadata": {},
   "outputs": [
    {
     "name": "stderr",
     "output_type": "stream",
     "text": [
      "/Users/andreassavva/miniforge3/envs/crf/lib/python3.10/site-packages/sklearn/metrics/_classification.py:1272: UndefinedMetricWarning: Precision and F-score are ill-defined and being set to 0.0 in labels with no predicted samples. Use `zero_division` parameter to control this behavior.\n",
      "  _warn_prf(average, modifier, msg_start, len(result))\n",
      "/Users/andreassavva/miniforge3/envs/crf/lib/python3.10/site-packages/sklearn/base.py:193: FutureWarning: From version 0.24, get_params will raise an AttributeError if a parameter cannot be retrieved as an instance attribute. Previously it would return None.\n",
      "  warnings.warn('From version 0.24, get_params will raise an '\n",
      "/Users/andreassavva/miniforge3/envs/crf/lib/python3.10/site-packages/sklearn/base.py:193: FutureWarning: From version 0.24, get_params will raise an AttributeError if a parameter cannot be retrieved as an instance attribute. Previously it would return None.\n",
      "  warnings.warn('From version 0.24, get_params will raise an '\n",
      "/Users/andreassavva/miniforge3/envs/crf/lib/python3.10/site-packages/sklearn/base.py:193: FutureWarning: From version 0.24, get_params will raise an AttributeError if a parameter cannot be retrieved as an instance attribute. Previously it would return None.\n",
      "  warnings.warn('From version 0.24, get_params will raise an '\n",
      "/Users/andreassavva/miniforge3/envs/crf/lib/python3.10/site-packages/sklearn/base.py:193: FutureWarning: From version 0.24, get_params will raise an AttributeError if a parameter cannot be retrieved as an instance attribute. Previously it would return None.\n",
      "  warnings.warn('From version 0.24, get_params will raise an '\n",
      "/Users/andreassavva/miniforge3/envs/crf/lib/python3.10/site-packages/sklearn/base.py:193: FutureWarning: From version 0.24, get_params will raise an AttributeError if a parameter cannot be retrieved as an instance attribute. Previously it would return None.\n",
      "  warnings.warn('From version 0.24, get_params will raise an '\n",
      "/Users/andreassavva/miniforge3/envs/crf/lib/python3.10/site-packages/sklearn/base.py:193: FutureWarning: From version 0.24, get_params will raise an AttributeError if a parameter cannot be retrieved as an instance attribute. Previously it would return None.\n",
      "  warnings.warn('From version 0.24, get_params will raise an '\n",
      "/Users/andreassavva/miniforge3/envs/crf/lib/python3.10/site-packages/sklearn/base.py:193: FutureWarning: From version 0.24, get_params will raise an AttributeError if a parameter cannot be retrieved as an instance attribute. Previously it would return None.\n",
      "  warnings.warn('From version 0.24, get_params will raise an '\n",
      "/Users/andreassavva/miniforge3/envs/crf/lib/python3.10/site-packages/sklearn/base.py:193: FutureWarning: From version 0.24, get_params will raise an AttributeError if a parameter cannot be retrieved as an instance attribute. Previously it would return None.\n",
      "  warnings.warn('From version 0.24, get_params will raise an '\n",
      "/Users/andreassavva/miniforge3/envs/crf/lib/python3.10/site-packages/sklearn/base.py:193: FutureWarning: From version 0.24, get_params will raise an AttributeError if a parameter cannot be retrieved as an instance attribute. Previously it would return None.\n",
      "  warnings.warn('From version 0.24, get_params will raise an '\n",
      "/Users/andreassavva/miniforge3/envs/crf/lib/python3.10/site-packages/sklearn/base.py:193: FutureWarning: From version 0.24, get_params will raise an AttributeError if a parameter cannot be retrieved as an instance attribute. Previously it would return None.\n",
      "  warnings.warn('From version 0.24, get_params will raise an '\n",
      "/Users/andreassavva/miniforge3/envs/crf/lib/python3.10/site-packages/sklearn/base.py:193: FutureWarning: From version 0.24, get_params will raise an AttributeError if a parameter cannot be retrieved as an instance attribute. Previously it would return None.\n",
      "  warnings.warn('From version 0.24, get_params will raise an '\n"
     ]
    },
    {
     "name": "stdout",
     "output_type": "stream",
     "text": [
      "best params: {'c1': 0.25348058103431914, 'c2': 0.009037391614426122}\n",
      "best CV score: 0.19453053063297387\n",
      "model size: 1.03M\n"
     ]
    }
   ],
   "source": [
    "extra = {\n",
    "        \"context\": [0],\n",
    "        \"features\": ['is_mention', 'is_money', 'is_url', 'is_hashtag', 'is_punct', 'is_first_capital', 'is_stopword', 'has_emoji', 'lemma', 'w2v']\n",
    "        }\n",
    "\n",
    "run_test(extra, labels, fname='0-everything_finetuned')"
   ]
  }
 ],
 "metadata": {
  "kernelspec": {
   "display_name": "Python 3 (ipykernel)",
   "language": "python",
   "name": "python3"
  },
  "language_info": {
   "codemirror_mode": {
    "name": "ipython",
    "version": 3
   },
   "file_extension": ".py",
   "mimetype": "text/x-python",
   "name": "python",
   "nbconvert_exporter": "python",
   "pygments_lexer": "ipython3",
   "version": "3.10.6"
  },
  "vscode": {
   "interpreter": {
    "hash": "50f95997f0c4282c02b70176f376c0566cd16eb2ce4c64de3c8feb9eb1d0f610"
   }
  }
 },
 "nbformat": 4,
 "nbformat_minor": 4
}
